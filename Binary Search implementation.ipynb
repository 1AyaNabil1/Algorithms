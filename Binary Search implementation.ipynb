{
 "cells": [
  {
   "cell_type": "markdown",
   "metadata": {},
   "source": [
    "# Binary Search implementation \n",
    "### Performs binary search to find the index of 'x' in a sorted list 'arr'.\n",
    "### Parameters:\n",
    "    1. arr (list): A sorted list of elements to search through.\n",
    "    2. x (int or float): The element to search for in the list.\n",
    "### Returns:\n",
    "str: A message indicating the index of 'x' if found; otherwise, a message indicating that 'x' is not in the list.\n",
    "    "
   ]
  },
  {
   "cell_type": "code",
   "execution_count": 2,
   "metadata": {},
   "outputs": [],
   "source": [
    "def binary_search(arr, x):\n",
    "    \"\"\"\n",
    "    Performs binary search to find the index of 'x' in a sorted list 'arr'.\n",
    "    \n",
    "    Parameters:\n",
    "    arr (list): A sorted list of elements to search through.\n",
    "    x (int or float): The element to search for in the list.\n",
    "\n",
    "    Returns:\n",
    "    str: A message indicating the index of 'x' if found; otherwise, a message indicating that 'x' is not in the list.\n",
    "    \"\"\"\n",
    "    # Initialize the starting and ending indices\n",
    "    low = 0\n",
    "    high = len(arr) - 1\n",
    "    \n",
    "    # Loop until the search range is valid\n",
    "    while low <= high:\n",
    "        # Calculate the middle index of the current search range\n",
    "        mid = (low + high) // 2\n",
    "        \n",
    "        # Check if the middle element is the target value\n",
    "        if arr[mid] == x:\n",
    "            return f\"The index of your searching number '{x}' is '{mid}'.\"\n",
    "        \n",
    "        # If the target value is greater, narrow the search to the right half\n",
    "        elif arr[mid] < x:\n",
    "            low = mid + 1\n",
    "        \n",
    "        # If the target value is smaller, narrow the search to the left half\n",
    "        else:\n",
    "            high = mid - 1\n",
    "    \n",
    "    # Return a message indicating that the target value was not found\n",
    "    return f\"The number '{x}' is not in the list.\"\n"
   ]
  },
  {
   "cell_type": "code",
   "execution_count": 3,
   "metadata": {},
   "outputs": [
    {
     "data": {
      "text/plain": [
       "\"The index of your searching number '11' is '10'.\""
      ]
     },
     "execution_count": 3,
     "metadata": {},
     "output_type": "execute_result"
    }
   ],
   "source": [
    "list = [1,2,3,4,5,6,7,8,9,10,11,12,13,14,15,16,17,18,19,20]\n",
    "binary_search(list, 11)"
   ]
  },
  {
   "cell_type": "code",
   "execution_count": null,
   "metadata": {},
   "outputs": [],
   "source": []
  }
 ],
 "metadata": {
  "kernelspec": {
   "display_name": "base",
   "language": "python",
   "name": "python3"
  },
  "language_info": {
   "codemirror_mode": {
    "name": "ipython",
    "version": 3
   },
   "file_extension": ".py",
   "mimetype": "text/x-python",
   "name": "python",
   "nbconvert_exporter": "python",
   "pygments_lexer": "ipython3",
   "version": "3.9.13"
  }
 },
 "nbformat": 4,
 "nbformat_minor": 2
}
